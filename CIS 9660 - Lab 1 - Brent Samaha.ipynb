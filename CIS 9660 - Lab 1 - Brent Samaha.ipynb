{
 "cells": [
  {
   "cell_type": "markdown",
   "metadata": {},
   "source": [
    "# Lab 1 - Linear Regression - Brent Samaha"
   ]
  },
  {
   "cell_type": "code",
   "execution_count": 239,
   "metadata": {},
   "outputs": [],
   "source": [
    "#importing packages to be used\n",
    "import pandas as pd\n",
    "import statsmodels.formula.api as smf\n",
    "from sklearn.model_selection import train_test_split\n",
    "from sklearn.metrics import mean_absolute_error as MAE\n",
    "from statsmodels.tools import eval_measures\n",
    "import matplotlib.pyplot as plt"
   ]
  },
  {
   "cell_type": "markdown",
   "metadata": {},
   "source": [
    "## Question 1. Reading in data sets"
   ]
  },
  {
   "cell_type": "code",
   "execution_count": 197,
   "metadata": {},
   "outputs": [],
   "source": [
    "train_data = pd.read_csv('train_2017.csv')"
   ]
  },
  {
   "cell_type": "code",
   "execution_count": 198,
   "metadata": {},
   "outputs": [],
   "source": [
    "property_data = pd.read_csv('properties_2017.csv', low_memory=False)"
   ]
  },
  {
   "cell_type": "markdown",
   "metadata": {},
   "source": [
    "## Question 2. Merging train and property data sets"
   ]
  },
  {
   "cell_type": "code",
   "execution_count": 199,
   "metadata": {},
   "outputs": [],
   "source": [
    "merged_data = pd.merge(train_data, property_data, how = \"inner\", on = [\"parcelid\"])"
   ]
  },
  {
   "cell_type": "code",
   "execution_count": 200,
   "metadata": {},
   "outputs": [
    {
     "data": {
      "text/plain": [
       "(77613, 60)"
      ]
     },
     "execution_count": 200,
     "metadata": {},
     "output_type": "execute_result"
    }
   ],
   "source": [
    "merged_data.shape"
   ]
  },
  {
   "cell_type": "markdown",
   "metadata": {},
   "source": [
    "There are 77613 rows and 60 columns in the merged data set."
   ]
  },
  {
   "cell_type": "markdown",
   "metadata": {},
   "source": [
    "## Question 3. Creating test and train subsets "
   ]
  },
  {
   "cell_type": "code",
   "execution_count": 201,
   "metadata": {},
   "outputs": [],
   "source": [
    "training, test = train_test_split(merged_data, test_size=0.3, train_size=0.7)"
   ]
  },
  {
   "cell_type": "code",
   "execution_count": 202,
   "metadata": {},
   "outputs": [
    {
     "data": {
      "text/plain": [
       "(54329, 60)"
      ]
     },
     "execution_count": 202,
     "metadata": {},
     "output_type": "execute_result"
    }
   ],
   "source": [
    "training.shape"
   ]
  },
  {
   "cell_type": "code",
   "execution_count": 203,
   "metadata": {},
   "outputs": [
    {
     "data": {
      "text/plain": [
       "(23284, 60)"
      ]
     },
     "execution_count": 203,
     "metadata": {},
     "output_type": "execute_result"
    }
   ],
   "source": [
    "test.shape"
   ]
  },
  {
   "cell_type": "markdown",
   "metadata": {},
   "source": [
    "The training data subset has 54,329 rows (70%) and the test data subset has 23,238 rows (30%)."
   ]
  },
  {
   "cell_type": "markdown",
   "metadata": {},
   "source": [
    "## Question 4. Descriptive stats of logerror"
   ]
  },
  {
   "cell_type": "code",
   "execution_count": 204,
   "metadata": {},
   "outputs": [
    {
     "name": "stdout",
     "output_type": "stream",
     "text": [
      "The mean of logerror in the training data set is 0.016888455521446195\n"
     ]
    }
   ],
   "source": [
    "print('The mean of logerror in the training data set is', training.logerror.mean())"
   ]
  },
  {
   "cell_type": "code",
   "execution_count": 205,
   "metadata": {},
   "outputs": [
    {
     "name": "stdout",
     "output_type": "stream",
     "text": [
      "The median of logerror in the training data set is 0.006777687728680001\n"
     ]
    }
   ],
   "source": [
    "print('The median of logerror in the training data set is', training.logerror.median())"
   ]
  },
  {
   "cell_type": "code",
   "execution_count": 206,
   "metadata": {},
   "outputs": [
    {
     "name": "stdout",
     "output_type": "stream",
     "text": [
      "The training logerror range is,  9.918419027439999\n"
     ]
    }
   ],
   "source": [
    "training_logerror_range = (training.logerror.max() - training.logerror.min())\n",
    "print('The training logerror range is, ', training_logerror_range)"
   ]
  },
  {
   "cell_type": "code",
   "execution_count": 207,
   "metadata": {},
   "outputs": [
    {
     "name": "stdout",
     "output_type": "stream",
     "text": [
      "The standard deviation of logerror in the training data set is 0.1701042536733461\n"
     ]
    }
   ],
   "source": [
    "print('The standard deviation of logerror in the training data set is', training.logerror.std())"
   ]
  },
  {
   "cell_type": "markdown",
   "metadata": {},
   "source": [
    "## Question 5. Columns with missing values"
   ]
  },
  {
   "cell_type": "code",
   "execution_count": 208,
   "metadata": {},
   "outputs": [
    {
     "data": {
      "text/plain": [
       "airconditioningtypeid           True\n",
       "architecturalstyletypeid        True\n",
       "basementsqft                    True\n",
       "bathroomcnt                     True\n",
       "bedroomcnt                      True\n",
       "buildingclasstypeid             True\n",
       "buildingqualitytypeid           True\n",
       "calculatedbathnbr               True\n",
       "decktypeid                      True\n",
       "finishedfloor1squarefeet        True\n",
       "calculatedfinishedsquarefeet    True\n",
       "finishedsquarefeet12            True\n",
       "finishedsquarefeet13            True\n",
       "finishedsquarefeet15            True\n",
       "finishedsquarefeet50            True\n",
       "finishedsquarefeet6             True\n",
       "fips                            True\n",
       "fireplacecnt                    True\n",
       "fullbathcnt                     True\n",
       "garagecarcnt                    True\n",
       "garagetotalsqft                 True\n",
       "hashottuborspa                  True\n",
       "heatingorsystemtypeid           True\n",
       "latitude                        True\n",
       "longitude                       True\n",
       "lotsizesquarefeet               True\n",
       "poolcnt                         True\n",
       "poolsizesum                     True\n",
       "pooltypeid10                    True\n",
       "pooltypeid2                     True\n",
       "pooltypeid7                     True\n",
       "propertycountylandusecode       True\n",
       "propertylandusetypeid           True\n",
       "propertyzoningdesc              True\n",
       "rawcensustractandblock          True\n",
       "regionidcity                    True\n",
       "regionidcounty                  True\n",
       "regionidneighborhood            True\n",
       "regionidzip                     True\n",
       "roomcnt                         True\n",
       "storytypeid                     True\n",
       "threequarterbathnbr             True\n",
       "typeconstructiontypeid          True\n",
       "unitcnt                         True\n",
       "yardbuildingsqft17              True\n",
       "yardbuildingsqft26              True\n",
       "yearbuilt                       True\n",
       "numberofstories                 True\n",
       "fireplaceflag                   True\n",
       "structuretaxvaluedollarcnt      True\n",
       "taxvaluedollarcnt               True\n",
       "assessmentyear                  True\n",
       "landtaxvaluedollarcnt           True\n",
       "taxamount                       True\n",
       "taxdelinquencyflag              True\n",
       "taxdelinquencyyear              True\n",
       "censustractandblock             True\n",
       "dtype: bool"
      ]
     },
     "execution_count": 208,
     "metadata": {},
     "output_type": "execute_result"
    }
   ],
   "source": [
    "missing = merged_data.isna().any()\n",
    "missing[missing == True]"
   ]
  },
  {
   "cell_type": "markdown",
   "metadata": {},
   "source": [
    "## Question 6. Replace missing values with mean - taxamount, roomcnt, basementsqft, garagetotalsqft, garagecarcnt"
   ]
  },
  {
   "cell_type": "code",
   "execution_count": 209,
   "metadata": {},
   "outputs": [
    {
     "name": "stdout",
     "output_type": "stream",
     "text": [
      "<class 'pandas.core.frame.DataFrame'>\n",
      "Int64Index: 54329 entries, 4000 to 4596\n",
      "Data columns (total 60 columns):\n",
      " #   Column                        Non-Null Count  Dtype  \n",
      "---  ------                        --------------  -----  \n",
      " 0   parcelid                      54329 non-null  int64  \n",
      " 1   logerror                      54329 non-null  float64\n",
      " 2   transactiondate               54329 non-null  object \n",
      " 3   airconditioningtypeid         17451 non-null  float64\n",
      " 4   architecturalstyletypeid      151 non-null    float64\n",
      " 5   basementsqft                  36 non-null     float64\n",
      " 6   bathroomcnt                   54300 non-null  float64\n",
      " 7   bedroomcnt                    54300 non-null  float64\n",
      " 8   buildingclasstypeid           13 non-null     float64\n",
      " 9   buildingqualitytypeid         34945 non-null  float64\n",
      " 10  calculatedbathnbr             53868 non-null  float64\n",
      " 11  decktypeid                    423 non-null    float64\n",
      " 12  finishedfloor1squarefeet      4194 non-null   float64\n",
      " 13  calculatedfinishedsquarefeet  54173 non-null  float64\n",
      " 14  finishedsquarefeet12          51724 non-null  float64\n",
      " 15  finishedsquarefeet13          33 non-null     float64\n",
      " 16  finishedsquarefeet15          2137 non-null   float64\n",
      " 17  finishedsquarefeet50          4194 non-null   float64\n",
      " 18  finishedsquarefeet6           279 non-null    float64\n",
      " 19  fips                          54300 non-null  float64\n",
      " 20  fireplacecnt                  5782 non-null   float64\n",
      " 21  fullbathcnt                   53868 non-null  float64\n",
      " 22  garagecarcnt                  17835 non-null  float64\n",
      " 23  garagetotalsqft               17835 non-null  float64\n",
      " 24  hashottuborspa                1097 non-null   object \n",
      " 25  heatingorsystemtypeid         34734 non-null  float64\n",
      " 26  latitude                      54300 non-null  float64\n",
      " 27  longitude                     54300 non-null  float64\n",
      " 28  lotsizesquarefeet             48555 non-null  float64\n",
      " 29  poolcnt                       11241 non-null  float64\n",
      " 30  poolsizesum                   577 non-null    float64\n",
      " 31  pooltypeid10                  332 non-null    float64\n",
      " 32  pooltypeid2                   765 non-null    float64\n",
      " 33  pooltypeid7                   10461 non-null  float64\n",
      " 34  propertycountylandusecode     54300 non-null  object \n",
      " 35  propertylandusetypeid         54300 non-null  float64\n",
      " 36  propertyzoningdesc            35369 non-null  object \n",
      " 37  rawcensustractandblock        54300 non-null  float64\n",
      " 38  regionidcity                  53290 non-null  float64\n",
      " 39  regionidcounty                54300 non-null  float64\n",
      " 40  regionidneighborhood          21776 non-null  float64\n",
      " 41  regionidzip                   54271 non-null  float64\n",
      " 42  roomcnt                       54300 non-null  float64\n",
      " 43  storytypeid                   36 non-null     float64\n",
      " 44  threequarterbathnbr           7074 non-null   float64\n",
      " 45  typeconstructiontypeid        165 non-null    float64\n",
      " 46  unitcnt                       35558 non-null  float64\n",
      " 47  yardbuildingsqft17            1666 non-null   float64\n",
      " 48  yardbuildingsqft26            49 non-null     float64\n",
      " 49  yearbuilt                     54126 non-null  float64\n",
      " 50  numberofstories               12348 non-null  float64\n",
      " 51  fireplaceflag                 129 non-null    object \n",
      " 52  structuretaxvaluedollarcnt    54231 non-null  float64\n",
      " 53  taxvaluedollarcnt             54300 non-null  float64\n",
      " 54  assessmentyear                54300 non-null  float64\n",
      " 55  landtaxvaluedollarcnt         54299 non-null  float64\n",
      " 56  taxamount                     54297 non-null  float64\n",
      " 57  taxdelinquencyflag            2062 non-null   object \n",
      " 58  taxdelinquencyyear            2062 non-null   float64\n",
      " 59  censustractandblock           54137 non-null  float64\n",
      "dtypes: float64(53), int64(1), object(6)\n",
      "memory usage: 25.3+ MB\n"
     ]
    }
   ],
   "source": [
    "training.info() #checking for numerical variables "
   ]
  },
  {
   "cell_type": "code",
   "execution_count": 210,
   "metadata": {},
   "outputs": [
    {
     "name": "stdout",
     "output_type": "stream",
     "text": [
      "5974.658845608387\n"
     ]
    }
   ],
   "source": [
    "mean_taxamount = training.taxamount.mean()\n",
    "print(mean_taxamount)"
   ]
  },
  {
   "cell_type": "code",
   "execution_count": 211,
   "metadata": {},
   "outputs": [
    {
     "data": {
      "text/plain": [
       "1.47902394106814"
      ]
     },
     "execution_count": 211,
     "metadata": {},
     "output_type": "execute_result"
    }
   ],
   "source": [
    "mean_roomcnt = training.roomcnt.mean()\n",
    "mean_roomcnt"
   ]
  },
  {
   "cell_type": "code",
   "execution_count": 212,
   "metadata": {},
   "outputs": [
    {
     "data": {
      "text/plain": [
       "650.6666666666666"
      ]
     },
     "execution_count": 212,
     "metadata": {},
     "output_type": "execute_result"
    }
   ],
   "source": [
    "mean_basementsqft = training.basementsqft.mean()\n",
    "mean_basementsqft"
   ]
  },
  {
   "cell_type": "code",
   "execution_count": 213,
   "metadata": {},
   "outputs": [
    {
     "data": {
      "text/plain": [
       "349.7475189234651"
      ]
     },
     "execution_count": 213,
     "metadata": {},
     "output_type": "execute_result"
    }
   ],
   "source": [
    "mean_garagetotalsqft = training.garagetotalsqft.mean()\n",
    "mean_garagetotalsqft"
   ]
  },
  {
   "cell_type": "code",
   "execution_count": 214,
   "metadata": {},
   "outputs": [
    {
     "data": {
      "text/plain": [
       "1.815138772077376"
      ]
     },
     "execution_count": 214,
     "metadata": {},
     "output_type": "execute_result"
    }
   ],
   "source": [
    "mean_garagecarcnt = training.garagecarcnt.mean()\n",
    "mean_garagecarcnt"
   ]
  },
  {
   "cell_type": "code",
   "execution_count": 215,
   "metadata": {},
   "outputs": [
   ],
   "source": [
    "#wanted to create new columns for my ease of access\n",
    "training['fixed_taxamount']=training.taxamount.fillna(mean_taxamount)\n",
    "test['fixed_taxamount']=test.taxamount.fillna(mean_taxamount)\n",
    "training['fixed_roomcnt']=training.roomcnt.fillna(mean_roomcnt)\n",
    "test['fixed_roomcnt']=test.roomcnt.fillna(mean_roomcnt)\n",
    "training['fixed_basementsqft']=training.basementsqft.fillna(mean_basementsqft)\n",
    "test['fixed_basementsqft']=test.basementsqft.fillna(mean_basementsqft)\n",
    "training['fixed_garagetotalsqft']=training.garagetotalsqft.fillna(mean_garagetotalsqft)\n",
    "test['fixed_garagetotalsqft']=test.garagetotalsqft.fillna(mean_garagetotalsqft)\n",
    "training['fixed_garagecarcnt']=training.garagecarcnt.fillna(mean_garagecarcnt)\n",
    "test['fixed_garagecarcnt']=test.garagecarcnt.fillna(mean_garagecarcnt)"
   ]
  },
  {
   "cell_type": "code",
   "execution_count": 216,
   "metadata": {},
   "outputs": [
    {
     "data": {
      "text/plain": [
       "parcelid                    False\n",
       "logerror                    False\n",
       "transactiondate             False\n",
       "airconditioningtypeid        True\n",
       "architecturalstyletypeid     True\n",
       "                            ...  \n",
       "fixed_taxamount             False\n",
       "fixed_roomcnt               False\n",
       "fixed_basementsqft          False\n",
       "fixed_garagetotalsqft       False\n",
       "fixed_garagecarcnt          False\n",
       "Length: 65, dtype: bool"
      ]
     },
     "execution_count": 216,
     "metadata": {},
     "output_type": "execute_result"
    }
   ],
   "source": [
    "#ensuring the new columns are not missing values\n",
    "training.isna().any()"
   ]
  },
  {
   "cell_type": "code",
   "execution_count": 217,
   "metadata": {},
   "outputs": [
    {
     "data": {
      "text/plain": [
       "parcelid                    False\n",
       "logerror                    False\n",
       "transactiondate             False\n",
       "airconditioningtypeid        True\n",
       "architecturalstyletypeid     True\n",
       "                            ...  \n",
       "fixed_taxamount             False\n",
       "fixed_roomcnt               False\n",
       "fixed_basementsqft          False\n",
       "fixed_garagetotalsqft       False\n",
       "fixed_garagecarcnt          False\n",
       "Length: 65, dtype: bool"
      ]
     },
     "execution_count": 217,
     "metadata": {},
     "output_type": "execute_result"
    }
   ],
   "source": [
    "#ensuring the new columns are not missing values\n",
    "test.isna().any()"
   ]
  },
  {
   "cell_type": "markdown",
   "metadata": {},
   "source": [
    "The tails of the two data frames show that the last five columns entered are the variables that were replaced with that variable's mean from the training data set."
   ]
  },
  {
   "cell_type": "markdown",
   "metadata": {},
   "source": [
    "## Question 7. Run linear regression model"
   ]
  },
  {
   "cell_type": "code",
   "execution_count": 220,
   "metadata": {},
   "outputs": [],
   "source": [
    "training_variables = training[['logerror','fixed_taxamount', 'fixed_roomcnt', 'fixed_basementsqft', 'fixed_garagetotalsqft', 'fixed_garagecarcnt']]"
   ]
  },
  {
   "cell_type": "code",
   "execution_count": 221,
   "metadata": {},
   "outputs": [],
   "source": [
    "linear_model = smf.ols(formula='logerror ~ fixed_taxamount + fixed_roomcnt + fixed_basementsqft + fixed_garagetotalsqft + fixed_garagecarcnt', data = training_variables).fit()"
   ]
  },
  {
   "cell_type": "markdown",
   "metadata": {},
   "source": [
    "## Question 8. Getting values for model developed"
   ]
  },
  {
   "cell_type": "code",
   "execution_count": 222,
   "metadata": {},
   "outputs": [
    {
     "data": {
      "text/plain": [
       "0.0006815883785508126"
      ]
     },
     "execution_count": 222,
     "metadata": {},
     "output_type": "execute_result"
    }
   ],
   "source": [
    "linear_model.rsquared"
   ]
  },
  {
   "cell_type": "code",
   "execution_count": 223,
   "metadata": {},
   "outputs": [
    {
     "data": {
      "text/plain": [
       "Intercept                0.073061\n",
       "fixed_taxamount          0.073663\n",
       "fixed_roomcnt            0.029997\n",
       "fixed_basementsqft       0.055232\n",
       "fixed_garagetotalsqft    0.017401\n",
       "fixed_garagecarcnt       0.109367\n",
       "dtype: float64"
      ]
     },
     "execution_count": 223,
     "metadata": {},
     "output_type": "execute_result"
    }
   ],
   "source": [
    "linear_model.pvalues"
   ]
  },
  {
   "cell_type": "code",
   "execution_count": 224,
   "metadata": {},
   "outputs": [
    {
     "data": {
      "text/plain": [
       "4000     0.015915\n",
       "9637     0.011076\n",
       "34075    0.016479\n",
       "49500    0.022846\n",
       "26581    0.016494\n",
       "           ...   \n",
       "4039     0.016815\n",
       "102      0.026494\n",
       "65920    0.016831\n",
       "27609    0.016546\n",
       "4596     0.032508\n",
       "Length: 54329, dtype: float64"
      ]
     },
     "execution_count": 224,
     "metadata": {},
     "output_type": "execute_result"
    }
   ],
   "source": [
    "logerror_prediction = linear_model.predict(training_variables[['fixed_taxamount', 'fixed_roomcnt', 'fixed_basementsqft', 'fixed_garagetotalsqft', 'fixed_garagecarcnt']])\n",
    "logerror_prediction"
   ]
  },
  {
   "cell_type": "code",
   "execution_count": 229,
   "metadata": {},
   "outputs": [
    {
     "data": {
      "text/plain": [
       "0.1700447082757242"
      ]
     },
     "execution_count": 229,
     "metadata": {},
     "output_type": "execute_result"
    }
   ],
   "source": [
    "eval_measures.rmse(training_variables.logerror, logerror_prediction)"
   ]
  },
  {
   "cell_type": "code",
   "execution_count": 230,
   "metadata": {},
   "outputs": [
    {
     "data": {
      "text/plain": [
       "0.07083765234231666"
      ]
     },
     "execution_count": 230,
     "metadata": {},
     "output_type": "execute_result"
    }
   ],
   "source": [
    "meanabserror=MAE(training['logerror'],logerror_prediction)\n",
    "meanabserror"
   ]
  },
  {
   "cell_type": "markdown",
   "metadata": {},
   "source": [
    "## Question 9. Checking model generalization"
   ]
  },
  {
   "cell_type": "code",
   "execution_count": 233,
   "metadata": {},
   "outputs": [],
   "source": [
    "test_variables = test[['logerror','fixed_taxamount', 'fixed_roomcnt', 'fixed_basementsqft', 'fixed_garagetotalsqft', 'fixed_garagecarcnt']]"
   ]
  },
  {
   "cell_type": "code",
   "execution_count": 234,
   "metadata": {},
   "outputs": [
    {
     "data": {
      "text/plain": [
       "1641     0.016248\n",
       "36874    0.007258\n",
       "11779    0.006953\n",
       "63885    0.007252\n",
       "69550    0.011247\n",
       "           ...   \n",
       "31812    0.010563\n",
       "7460     0.015832\n",
       "75939    0.019617\n",
       "62181    0.021289\n",
       "68071    0.016763\n",
       "Length: 23284, dtype: float64"
      ]
     },
     "execution_count": 234,
     "metadata": {},
     "output_type": "execute_result"
    }
   ],
   "source": [
    "testpred = linear_model.predict(test_variables[['fixed_taxamount', 'fixed_roomcnt', 'fixed_basementsqft', 'fixed_garagetotalsqft', 'fixed_garagecarcnt']])\n",
    "testpred"
   ]
  },
  {
   "cell_type": "code",
   "execution_count": 236,
   "metadata": {},
   "outputs": [
    {
     "data": {
      "text/plain": [
       "0.17266902350781982"
      ]
     },
     "execution_count": 236,
     "metadata": {},
     "output_type": "execute_result"
    }
   ],
   "source": [
    "eval_measures.rmse(test_variables.logerror, testpred)"
   ]
  },
  {
   "cell_type": "code",
   "execution_count": 238,
   "metadata": {},
   "outputs": [
    {
     "data": {
      "text/plain": [
       "0.07072873965695656"
      ]
     },
     "execution_count": 238,
     "metadata": {},
     "output_type": "execute_result"
    }
   ],
   "source": [
    "meanabserrortest=MAE(test['logerror'], testpred)\n",
    "meanabserrortest"
   ]
  },
  {
   "cell_type": "markdown",
   "metadata": {},
   "source": [
    "Part C. Using the model with the training data set, the RMSE came to be .170, and using the model with the test data, the RMSE came out to be .173, a difference of .003. With the training dataset, the MAE came to be .071, and with the test dataset, the MAE was .071 (rounded). Given the noted differences between the training and validation RMSE and MAE, I would respond taht the model generalizes well to unseen data."
   ]
  },
  {
   "cell_type": "markdown",
   "metadata": {},
   "source": [
    "## Question 10. Plot of validation dataset's logerror values"
   ]
  },
  {
   "cell_type": "code",
   "execution_count": 244,
   "metadata": {},
   "outputs": [
    {
     "data": {
      "text/plain": [
       "<matplotlib.axes._subplots.AxesSubplot at 0x7fd2f7269880>"
      ]
     },
     "execution_count": 244,
     "metadata": {},
     "output_type": "execute_result"
    },
    {
     "data": {
      "image/png": "[encoded data removed]",
      "text/plain": [
       "<Figure size 432x288 with 1 Axes>"
      ]
     },
     "metadata": {
      "needs_background": "light"
     },
     "output_type": "display_data"
    }
   ],
   "source": [
    "test.plot.scatter(x = 'fixed_garagetotalsqft', y = 'logerror')"
   ]
  },
  {
   "cell_type": "markdown",
   "metadata": {},
   "source": [
    "## Question 11. Correlation of variables"
   ]
  },
  {
   "cell_type": "code",
   "execution_count": 246,
   "metadata": {},
   "outputs": [
    {
     "data": {
      "text/html": [
       "<div>\n",
       "<style scoped>\n",
       "    .dataframe tbody tr th:only-of-type {\n",
       "        vertical-align: middle;\n",
       "    }\n",
       "\n",
       "    .dataframe tbody tr th {\n",
       "        vertical-align: top;\n",
       "    }\n",
       "\n",
       "    .dataframe thead th {\n",
       "        text-align: right;\n",
       "    }\n",
       "</style>\n",
       "<table border=\"1\" class=\"dataframe\">\n",
       "  <thead>\n",
       "    <tr style=\"text-align: right;\">\n",
       "      <th></th>\n",
       "      <th>logerror</th>\n",
       "      <th>fixed_taxamount</th>\n",
       "      <th>fixed_roomcnt</th>\n",
       "      <th>fixed_basementsqft</th>\n",
       "      <th>fixed_garagetotalsqft</th>\n",
       "      <th>fixed_garagecarcnt</th>\n",
       "    </tr>\n",
       "  </thead>\n",
       "  <tbody>\n",
       "    <tr>\n",
       "      <th>logerror</th>\n",
       "      <td>1.000000</td>\n",
       "      <td>0.015037</td>\n",
       "      <td>0.013977</td>\n",
       "      <td>0.012418</td>\n",
       "      <td>0.021533</td>\n",
       "      <td>0.017140</td>\n",
       "    </tr>\n",
       "    <tr>\n",
       "      <th>fixed_taxamount</th>\n",
       "      <td>0.015037</td>\n",
       "      <td>1.000000</td>\n",
       "      <td>-0.034636</td>\n",
       "      <td>0.007210</td>\n",
       "      <td>0.120002</td>\n",
       "      <td>0.113839</td>\n",
       "    </tr>\n",
       "    <tr>\n",
       "      <th>fixed_roomcnt</th>\n",
       "      <td>0.013977</td>\n",
       "      <td>-0.034636</td>\n",
       "      <td>1.000000</td>\n",
       "      <td>0.022073</td>\n",
       "      <td>0.275466</td>\n",
       "      <td>0.134736</td>\n",
       "    </tr>\n",
       "    <tr>\n",
       "      <th>fixed_basementsqft</th>\n",
       "      <td>0.012418</td>\n",
       "      <td>0.007210</td>\n",
       "      <td>0.022073</td>\n",
       "      <td>1.000000</td>\n",
       "      <td>0.023572</td>\n",
       "      <td>0.042671</td>\n",
       "    </tr>\n",
       "    <tr>\n",
       "      <th>fixed_garagetotalsqft</th>\n",
       "      <td>0.021533</td>\n",
       "      <td>0.120002</td>\n",
       "      <td>0.275466</td>\n",
       "      <td>0.023572</td>\n",
       "      <td>1.000000</td>\n",
       "      <td>0.641303</td>\n",
       "    </tr>\n",
       "    <tr>\n",
       "      <th>fixed_garagecarcnt</th>\n",
       "      <td>0.017140</td>\n",
       "      <td>0.113839</td>\n",
       "      <td>0.134736</td>\n",
       "      <td>0.042671</td>\n",
       "      <td>0.641303</td>\n",
       "      <td>1.000000</td>\n",
       "    </tr>\n",
       "  </tbody>\n",
       "</table>\n",
       "</div>"
      ],
      "text/plain": [
       "                       logerror  fixed_taxamount  fixed_roomcnt  \\\n",
       "logerror               1.000000         0.015037       0.013977   \n",
       "fixed_taxamount        0.015037         1.000000      -0.034636   \n",
       "fixed_roomcnt          0.013977        -0.034636       1.000000   \n",
       "fixed_basementsqft     0.012418         0.007210       0.022073   \n",
       "fixed_garagetotalsqft  0.021533         0.120002       0.275466   \n",
       "fixed_garagecarcnt     0.017140         0.113839       0.134736   \n",
       "\n",
       "                       fixed_basementsqft  fixed_garagetotalsqft  \\\n",
       "logerror                         0.012418               0.021533   \n",
       "fixed_taxamount                  0.007210               0.120002   \n",
       "fixed_roomcnt                    0.022073               0.275466   \n",
       "fixed_basementsqft               1.000000               0.023572   \n",
       "fixed_garagetotalsqft            0.023572               1.000000   \n",
       "fixed_garagecarcnt               0.042671               0.641303   \n",
       "\n",
       "                       fixed_garagecarcnt  \n",
       "logerror                         0.017140  \n",
       "fixed_taxamount                  0.113839  \n",
       "fixed_roomcnt                    0.134736  \n",
       "fixed_basementsqft               0.042671  \n",
       "fixed_garagetotalsqft            0.641303  \n",
       "fixed_garagecarcnt               1.000000  "
      ]
     },
     "execution_count": 246,
     "metadata": {},
     "output_type": "execute_result"
    }
   ],
   "source": [
    "test_variables.corr()"
   ]
  },
  {
   "cell_type": "markdown",
   "metadata": {},
   "source": [
    "The only variables that have a noticeable strong correlation is fixed_garagecarcnt and fixed_garagetotalsqft. This makes logical sense as the variables describe the square footage of a garage and the number of cars that can fit in a garage; the higher square footage of the garage allows you to fit more cars.\n",
    "\n",
    "Most of the values do not have any strong correlation, and only the variables concering room count and tax amount have a negative correlation. With this information, we could take a backward elimination variable selection, removing 1 variable from a pair with a high correlation could assist as two highly correlated variables may not improve a model further."
   ]
  },
  {
   "cell_type": "markdown",
   "metadata": {},
   "source": [
    "## Question 12. Skip - thanks! Seems interesting though, will try on my own."
   ]
  },
  {
   "cell_type": "markdown",
   "metadata": {},
   "source": [
    "## Question 13. Improvements"
   ]
  },
  {
   "cell_type": "markdown",
   "metadata": {},
   "source": [
    "From here, I would try to improve my model and focus on trying to boost the rsquared value. To do this, I would try a forward selection process - as we have additional variables. I would look at correlations between all available variables and in a forward selection process, add specific variables that lack strong correlations with others. My thinking behind this is seeing if there is a unique factor (variable) that has a strong effect on logerror.\n",
    "\n",
    "To further improve the model I would also go through the outliers, like the ones seen in the plot above regarding garage square feet. These may be throwing off the model and as seen in the plot, there are multiple outliers, other variables are probably similar. \n",
    "\n",
    "Lastly, I believe that categorical variables like architectual style type could offer more insight - something that could be done through data exploration, test it within the model, & evaluate the p-value. "
   ]
  },
  {
   "cell_type": "code",
   "execution_count": null,
   "metadata": {},
   "outputs": [],
   "source": []
  }
 ],
 "metadata": {
  "kernelspec": {
   "display_name": "Python 3",
   "language": "python",
   "name": "python3"
  },
  "language_info": {
   "codemirror_mode": {
    "name": "ipython",
    "version": 3
   },
   "file_extension": ".py",
   "mimetype": "text/x-python",
   "name": "python",
   "nbconvert_exporter": "python",
   "pygments_lexer": "ipython3",
   "version": "3.8.3"
  }
 },
 "nbformat": 4,
 "nbformat_minor": 4
}
